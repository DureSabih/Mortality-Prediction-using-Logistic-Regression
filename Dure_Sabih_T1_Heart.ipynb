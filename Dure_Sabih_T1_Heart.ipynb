{
 "cells": [
  {
   "cell_type": "markdown",
   "id": "92bf408a-2619-4ed8-a8ea-7cc025837d0d",
   "metadata": {
    "id": "92bf408a-2619-4ed8-a8ea-7cc025837d0d"
   },
   "source": [
    "## Machine Learning Assessment - Dure Sabih (Student ID 0070990)"
   ]
  },
  {
   "cell_type": "markdown",
   "id": "beb00471-77eb-4bfd-8ee8-140c43690bfc",
   "metadata": {
    "id": "beb00471-77eb-4bfd-8ee8-140c43690bfc"
   },
   "source": [
    "Task 1 (a) "
   ]
  },
  {
   "cell_type": "code",
   "execution_count": 32,
   "id": "d36fc6d9-3742-4982-801f-354d9743943f",
   "metadata": {
    "id": "d36fc6d9-3742-4982-801f-354d9743943f"
   },
   "outputs": [],
   "source": [
    "# Importing Libraries\n",
    "import numpy as np\n",
    "import pandas as pd\n",
    "import sklearn as sk\n",
    "import matplotlib.pyplot as plt\n",
    "from scipy import stats\n",
    "import seaborn as sns\n",
    "%matplotlib inline\n",
    "from sklearn.model_selection import train_test_split\n",
    "# Algorithms to use\n",
    "from sklearn.linear_model import LogisticRegression\n",
    "from sklearn.preprocessing import MinMaxScaler\n",
    "from sklearn import metrics\n",
    "from sklearn.metrics import confusion_matrix, classification_report, precision_recall_curve,recall_score\n",
    "# import tensorflow as tf\n",
    "# from tensorflow.keras.models import Sequential\n",
    "# from tensorflow.keras.layers import Dense, Dropout, Activation"
   ]
  },
  {
   "cell_type": "markdown",
   "id": "ccee9010-fb38-43e0-b16a-629a77232995",
   "metadata": {
    "id": "ccee9010-fb38-43e0-b16a-629a77232995"
   },
   "source": [
    "### Loading the Dataset"
   ]
  },
  {
   "cell_type": "code",
   "execution_count": 35,
   "id": "73cbd723-f34a-4074-a1d9-3ca0a912f253",
   "metadata": {
    "id": "73cbd723-f34a-4074-a1d9-3ca0a912f253"
   },
   "outputs": [],
   "source": [
    "dataset = pd.read_csv('heart_failure_clinical_records_dataset.csv')"
   ]
  },
  {
   "cell_type": "markdown",
   "id": "9ecffbf7-fdac-4740-9b9a-83bf3ecf1ab1",
   "metadata": {
    "id": "9ecffbf7-fdac-4740-9b9a-83bf3ecf1ab1"
   },
   "source": [
    "# EDA AND DATA PRE-PROCESSING"
   ]
  },
  {
   "cell_type": "code",
   "execution_count": 36,
   "id": "14217919-3610-4fd8-8b72-cd450e237ec7",
   "metadata": {
    "colab": {
     "base_uri": "https://localhost:8080/"
    },
    "id": "14217919-3610-4fd8-8b72-cd450e237ec7",
    "outputId": "c00ff3bc-b552-4fcd-deb8-65744bc4a322"
   },
   "outputs": [
    {
     "data": {
      "text/plain": [
       "(299, 13)"
      ]
     },
     "execution_count": 36,
     "metadata": {},
     "output_type": "execute_result"
    }
   ],
   "source": [
    "dataset.shape"
   ]
  },
  {
   "cell_type": "code",
   "execution_count": 37,
   "id": "5d76de57-2329-41f6-a34f-1e6bbc9cb42e",
   "metadata": {
    "colab": {
     "base_uri": "https://localhost:8080/",
     "height": 270
    },
    "id": "5d76de57-2329-41f6-a34f-1e6bbc9cb42e",
    "outputId": "b2613296-ed31-4331-ecb1-aa578335b542"
   },
   "outputs": [
    {
     "data": {
      "text/html": [
       "<div>\n",
       "<style scoped>\n",
       "    .dataframe tbody tr th:only-of-type {\n",
       "        vertical-align: middle;\n",
       "    }\n",
       "\n",
       "    .dataframe tbody tr th {\n",
       "        vertical-align: top;\n",
       "    }\n",
       "\n",
       "    .dataframe thead th {\n",
       "        text-align: right;\n",
       "    }\n",
       "</style>\n",
       "<table border=\"1\" class=\"dataframe\">\n",
       "  <thead>\n",
       "    <tr style=\"text-align: right;\">\n",
       "      <th></th>\n",
       "      <th>age</th>\n",
       "      <th>anaemia</th>\n",
       "      <th>creatinine_phosphokinase</th>\n",
       "      <th>diabetes</th>\n",
       "      <th>ejection_fraction</th>\n",
       "      <th>high_blood_pressure</th>\n",
       "      <th>platelets</th>\n",
       "      <th>serum_creatinine</th>\n",
       "      <th>serum_sodium</th>\n",
       "      <th>sex</th>\n",
       "      <th>smoking</th>\n",
       "      <th>time</th>\n",
       "      <th>DEATH_EVENT</th>\n",
       "    </tr>\n",
       "  </thead>\n",
       "  <tbody>\n",
       "    <tr>\n",
       "      <th>0</th>\n",
       "      <td>75.0</td>\n",
       "      <td>0</td>\n",
       "      <td>582</td>\n",
       "      <td>0</td>\n",
       "      <td>20</td>\n",
       "      <td>1</td>\n",
       "      <td>265000.00</td>\n",
       "      <td>1.9</td>\n",
       "      <td>130</td>\n",
       "      <td>1</td>\n",
       "      <td>0</td>\n",
       "      <td>4</td>\n",
       "      <td>1</td>\n",
       "    </tr>\n",
       "    <tr>\n",
       "      <th>1</th>\n",
       "      <td>55.0</td>\n",
       "      <td>0</td>\n",
       "      <td>7861</td>\n",
       "      <td>0</td>\n",
       "      <td>38</td>\n",
       "      <td>0</td>\n",
       "      <td>263358.03</td>\n",
       "      <td>1.1</td>\n",
       "      <td>136</td>\n",
       "      <td>1</td>\n",
       "      <td>0</td>\n",
       "      <td>6</td>\n",
       "      <td>1</td>\n",
       "    </tr>\n",
       "    <tr>\n",
       "      <th>2</th>\n",
       "      <td>65.0</td>\n",
       "      <td>0</td>\n",
       "      <td>146</td>\n",
       "      <td>0</td>\n",
       "      <td>20</td>\n",
       "      <td>0</td>\n",
       "      <td>162000.00</td>\n",
       "      <td>1.3</td>\n",
       "      <td>129</td>\n",
       "      <td>1</td>\n",
       "      <td>1</td>\n",
       "      <td>7</td>\n",
       "      <td>1</td>\n",
       "    </tr>\n",
       "    <tr>\n",
       "      <th>3</th>\n",
       "      <td>50.0</td>\n",
       "      <td>1</td>\n",
       "      <td>111</td>\n",
       "      <td>0</td>\n",
       "      <td>20</td>\n",
       "      <td>0</td>\n",
       "      <td>210000.00</td>\n",
       "      <td>1.9</td>\n",
       "      <td>137</td>\n",
       "      <td>1</td>\n",
       "      <td>0</td>\n",
       "      <td>7</td>\n",
       "      <td>1</td>\n",
       "    </tr>\n",
       "    <tr>\n",
       "      <th>4</th>\n",
       "      <td>65.0</td>\n",
       "      <td>1</td>\n",
       "      <td>160</td>\n",
       "      <td>1</td>\n",
       "      <td>20</td>\n",
       "      <td>0</td>\n",
       "      <td>327000.00</td>\n",
       "      <td>2.7</td>\n",
       "      <td>116</td>\n",
       "      <td>0</td>\n",
       "      <td>0</td>\n",
       "      <td>8</td>\n",
       "      <td>1</td>\n",
       "    </tr>\n",
       "  </tbody>\n",
       "</table>\n",
       "</div>"
      ],
      "text/plain": [
       "    age  anaemia  creatinine_phosphokinase  diabetes  ejection_fraction  \\\n",
       "0  75.0        0                       582         0                 20   \n",
       "1  55.0        0                      7861         0                 38   \n",
       "2  65.0        0                       146         0                 20   \n",
       "3  50.0        1                       111         0                 20   \n",
       "4  65.0        1                       160         1                 20   \n",
       "\n",
       "   high_blood_pressure  platelets  serum_creatinine  serum_sodium  sex  \\\n",
       "0                    1  265000.00               1.9           130    1   \n",
       "1                    0  263358.03               1.1           136    1   \n",
       "2                    0  162000.00               1.3           129    1   \n",
       "3                    0  210000.00               1.9           137    1   \n",
       "4                    0  327000.00               2.7           116    0   \n",
       "\n",
       "   smoking  time  DEATH_EVENT  \n",
       "0        0     4            1  \n",
       "1        0     6            1  \n",
       "2        1     7            1  \n",
       "3        0     7            1  \n",
       "4        0     8            1  "
      ]
     },
     "execution_count": 37,
     "metadata": {},
     "output_type": "execute_result"
    }
   ],
   "source": [
    "dataset.head()"
   ]
  },
  {
   "cell_type": "code",
   "execution_count": 38,
   "id": "3aadfec1-a0a2-41ff-bc52-b950bb71dec3",
   "metadata": {
    "colab": {
     "base_uri": "https://localhost:8080/",
     "height": 270
    },
    "id": "3aadfec1-a0a2-41ff-bc52-b950bb71dec3",
    "outputId": "174f2868-2047-480e-f655-316d07cdc9e6"
   },
   "outputs": [
    {
     "data": {
      "text/html": [
       "<div>\n",
       "<style scoped>\n",
       "    .dataframe tbody tr th:only-of-type {\n",
       "        vertical-align: middle;\n",
       "    }\n",
       "\n",
       "    .dataframe tbody tr th {\n",
       "        vertical-align: top;\n",
       "    }\n",
       "\n",
       "    .dataframe thead th {\n",
       "        text-align: right;\n",
       "    }\n",
       "</style>\n",
       "<table border=\"1\" class=\"dataframe\">\n",
       "  <thead>\n",
       "    <tr style=\"text-align: right;\">\n",
       "      <th></th>\n",
       "      <th>age</th>\n",
       "      <th>anaemia</th>\n",
       "      <th>creatinine_phosphokinase</th>\n",
       "      <th>diabetes</th>\n",
       "      <th>ejection_fraction</th>\n",
       "      <th>high_blood_pressure</th>\n",
       "      <th>platelets</th>\n",
       "      <th>serum_creatinine</th>\n",
       "      <th>serum_sodium</th>\n",
       "      <th>sex</th>\n",
       "      <th>smoking</th>\n",
       "      <th>time</th>\n",
       "      <th>DEATH_EVENT</th>\n",
       "    </tr>\n",
       "  </thead>\n",
       "  <tbody>\n",
       "    <tr>\n",
       "      <th>294</th>\n",
       "      <td>62.0</td>\n",
       "      <td>0</td>\n",
       "      <td>61</td>\n",
       "      <td>1</td>\n",
       "      <td>38</td>\n",
       "      <td>1</td>\n",
       "      <td>155000.0</td>\n",
       "      <td>1.1</td>\n",
       "      <td>143</td>\n",
       "      <td>1</td>\n",
       "      <td>1</td>\n",
       "      <td>270</td>\n",
       "      <td>0</td>\n",
       "    </tr>\n",
       "    <tr>\n",
       "      <th>295</th>\n",
       "      <td>55.0</td>\n",
       "      <td>0</td>\n",
       "      <td>1820</td>\n",
       "      <td>0</td>\n",
       "      <td>38</td>\n",
       "      <td>0</td>\n",
       "      <td>270000.0</td>\n",
       "      <td>1.2</td>\n",
       "      <td>139</td>\n",
       "      <td>0</td>\n",
       "      <td>0</td>\n",
       "      <td>271</td>\n",
       "      <td>0</td>\n",
       "    </tr>\n",
       "    <tr>\n",
       "      <th>296</th>\n",
       "      <td>45.0</td>\n",
       "      <td>0</td>\n",
       "      <td>2060</td>\n",
       "      <td>1</td>\n",
       "      <td>60</td>\n",
       "      <td>0</td>\n",
       "      <td>742000.0</td>\n",
       "      <td>0.8</td>\n",
       "      <td>138</td>\n",
       "      <td>0</td>\n",
       "      <td>0</td>\n",
       "      <td>278</td>\n",
       "      <td>0</td>\n",
       "    </tr>\n",
       "    <tr>\n",
       "      <th>297</th>\n",
       "      <td>45.0</td>\n",
       "      <td>0</td>\n",
       "      <td>2413</td>\n",
       "      <td>0</td>\n",
       "      <td>38</td>\n",
       "      <td>0</td>\n",
       "      <td>140000.0</td>\n",
       "      <td>1.4</td>\n",
       "      <td>140</td>\n",
       "      <td>1</td>\n",
       "      <td>1</td>\n",
       "      <td>280</td>\n",
       "      <td>0</td>\n",
       "    </tr>\n",
       "    <tr>\n",
       "      <th>298</th>\n",
       "      <td>50.0</td>\n",
       "      <td>0</td>\n",
       "      <td>196</td>\n",
       "      <td>0</td>\n",
       "      <td>45</td>\n",
       "      <td>0</td>\n",
       "      <td>395000.0</td>\n",
       "      <td>1.6</td>\n",
       "      <td>136</td>\n",
       "      <td>1</td>\n",
       "      <td>1</td>\n",
       "      <td>285</td>\n",
       "      <td>0</td>\n",
       "    </tr>\n",
       "  </tbody>\n",
       "</table>\n",
       "</div>"
      ],
      "text/plain": [
       "      age  anaemia  creatinine_phosphokinase  diabetes  ejection_fraction  \\\n",
       "294  62.0        0                        61         1                 38   \n",
       "295  55.0        0                      1820         0                 38   \n",
       "296  45.0        0                      2060         1                 60   \n",
       "297  45.0        0                      2413         0                 38   \n",
       "298  50.0        0                       196         0                 45   \n",
       "\n",
       "     high_blood_pressure  platelets  serum_creatinine  serum_sodium  sex  \\\n",
       "294                    1   155000.0               1.1           143    1   \n",
       "295                    0   270000.0               1.2           139    0   \n",
       "296                    0   742000.0               0.8           138    0   \n",
       "297                    0   140000.0               1.4           140    1   \n",
       "298                    0   395000.0               1.6           136    1   \n",
       "\n",
       "     smoking  time  DEATH_EVENT  \n",
       "294        1   270            0  \n",
       "295        0   271            0  \n",
       "296        0   278            0  \n",
       "297        1   280            0  \n",
       "298        1   285            0  "
      ]
     },
     "execution_count": 38,
     "metadata": {},
     "output_type": "execute_result"
    }
   ],
   "source": [
    "dataset.tail()"
   ]
  },
  {
   "cell_type": "code",
   "execution_count": 39,
   "id": "71020ada-bb0b-4c20-bbde-e7c4823c64d3",
   "metadata": {
    "colab": {
     "base_uri": "https://localhost:8080/",
     "height": 364
    },
    "id": "71020ada-bb0b-4c20-bbde-e7c4823c64d3",
    "outputId": "f59ff72d-64b9-4352-9c65-55cdbce14470"
   },
   "outputs": [
    {
     "data": {
      "text/html": [
       "<div>\n",
       "<style scoped>\n",
       "    .dataframe tbody tr th:only-of-type {\n",
       "        vertical-align: middle;\n",
       "    }\n",
       "\n",
       "    .dataframe tbody tr th {\n",
       "        vertical-align: top;\n",
       "    }\n",
       "\n",
       "    .dataframe thead th {\n",
       "        text-align: right;\n",
       "    }\n",
       "</style>\n",
       "<table border=\"1\" class=\"dataframe\">\n",
       "  <thead>\n",
       "    <tr style=\"text-align: right;\">\n",
       "      <th></th>\n",
       "      <th>count</th>\n",
       "      <th>mean</th>\n",
       "      <th>std</th>\n",
       "      <th>min</th>\n",
       "      <th>25%</th>\n",
       "      <th>50%</th>\n",
       "      <th>75%</th>\n",
       "      <th>max</th>\n",
       "    </tr>\n",
       "  </thead>\n",
       "  <tbody>\n",
       "    <tr>\n",
       "      <th>age</th>\n",
       "      <td>299.0</td>\n",
       "      <td>60.833893</td>\n",
       "      <td>11.894809</td>\n",
       "      <td>40.0</td>\n",
       "      <td>51.0</td>\n",
       "      <td>60.0</td>\n",
       "      <td>70.0</td>\n",
       "      <td>95.0</td>\n",
       "    </tr>\n",
       "    <tr>\n",
       "      <th>anaemia</th>\n",
       "      <td>299.0</td>\n",
       "      <td>0.431438</td>\n",
       "      <td>0.496107</td>\n",
       "      <td>0.0</td>\n",
       "      <td>0.0</td>\n",
       "      <td>0.0</td>\n",
       "      <td>1.0</td>\n",
       "      <td>1.0</td>\n",
       "    </tr>\n",
       "    <tr>\n",
       "      <th>creatinine_phosphokinase</th>\n",
       "      <td>299.0</td>\n",
       "      <td>581.839465</td>\n",
       "      <td>970.287881</td>\n",
       "      <td>23.0</td>\n",
       "      <td>116.5</td>\n",
       "      <td>250.0</td>\n",
       "      <td>582.0</td>\n",
       "      <td>7861.0</td>\n",
       "    </tr>\n",
       "    <tr>\n",
       "      <th>diabetes</th>\n",
       "      <td>299.0</td>\n",
       "      <td>0.418060</td>\n",
       "      <td>0.494067</td>\n",
       "      <td>0.0</td>\n",
       "      <td>0.0</td>\n",
       "      <td>0.0</td>\n",
       "      <td>1.0</td>\n",
       "      <td>1.0</td>\n",
       "    </tr>\n",
       "    <tr>\n",
       "      <th>ejection_fraction</th>\n",
       "      <td>299.0</td>\n",
       "      <td>38.083612</td>\n",
       "      <td>11.834841</td>\n",
       "      <td>14.0</td>\n",
       "      <td>30.0</td>\n",
       "      <td>38.0</td>\n",
       "      <td>45.0</td>\n",
       "      <td>80.0</td>\n",
       "    </tr>\n",
       "    <tr>\n",
       "      <th>high_blood_pressure</th>\n",
       "      <td>299.0</td>\n",
       "      <td>0.351171</td>\n",
       "      <td>0.478136</td>\n",
       "      <td>0.0</td>\n",
       "      <td>0.0</td>\n",
       "      <td>0.0</td>\n",
       "      <td>1.0</td>\n",
       "      <td>1.0</td>\n",
       "    </tr>\n",
       "    <tr>\n",
       "      <th>platelets</th>\n",
       "      <td>299.0</td>\n",
       "      <td>263358.029264</td>\n",
       "      <td>97804.236869</td>\n",
       "      <td>25100.0</td>\n",
       "      <td>212500.0</td>\n",
       "      <td>262000.0</td>\n",
       "      <td>303500.0</td>\n",
       "      <td>850000.0</td>\n",
       "    </tr>\n",
       "    <tr>\n",
       "      <th>serum_creatinine</th>\n",
       "      <td>299.0</td>\n",
       "      <td>1.393880</td>\n",
       "      <td>1.034510</td>\n",
       "      <td>0.5</td>\n",
       "      <td>0.9</td>\n",
       "      <td>1.1</td>\n",
       "      <td>1.4</td>\n",
       "      <td>9.4</td>\n",
       "    </tr>\n",
       "    <tr>\n",
       "      <th>serum_sodium</th>\n",
       "      <td>299.0</td>\n",
       "      <td>136.625418</td>\n",
       "      <td>4.412477</td>\n",
       "      <td>113.0</td>\n",
       "      <td>134.0</td>\n",
       "      <td>137.0</td>\n",
       "      <td>140.0</td>\n",
       "      <td>148.0</td>\n",
       "    </tr>\n",
       "    <tr>\n",
       "      <th>sex</th>\n",
       "      <td>299.0</td>\n",
       "      <td>0.648829</td>\n",
       "      <td>0.478136</td>\n",
       "      <td>0.0</td>\n",
       "      <td>0.0</td>\n",
       "      <td>1.0</td>\n",
       "      <td>1.0</td>\n",
       "      <td>1.0</td>\n",
       "    </tr>\n",
       "    <tr>\n",
       "      <th>smoking</th>\n",
       "      <td>299.0</td>\n",
       "      <td>0.321070</td>\n",
       "      <td>0.467670</td>\n",
       "      <td>0.0</td>\n",
       "      <td>0.0</td>\n",
       "      <td>0.0</td>\n",
       "      <td>1.0</td>\n",
       "      <td>1.0</td>\n",
       "    </tr>\n",
       "    <tr>\n",
       "      <th>time</th>\n",
       "      <td>299.0</td>\n",
       "      <td>130.260870</td>\n",
       "      <td>77.614208</td>\n",
       "      <td>4.0</td>\n",
       "      <td>73.0</td>\n",
       "      <td>115.0</td>\n",
       "      <td>203.0</td>\n",
       "      <td>285.0</td>\n",
       "    </tr>\n",
       "    <tr>\n",
       "      <th>DEATH_EVENT</th>\n",
       "      <td>299.0</td>\n",
       "      <td>0.321070</td>\n",
       "      <td>0.467670</td>\n",
       "      <td>0.0</td>\n",
       "      <td>0.0</td>\n",
       "      <td>0.0</td>\n",
       "      <td>1.0</td>\n",
       "      <td>1.0</td>\n",
       "    </tr>\n",
       "  </tbody>\n",
       "</table>\n",
       "</div>"
      ],
      "text/plain": [
       "                          count           mean           std      min  \\\n",
       "age                       299.0      60.833893     11.894809     40.0   \n",
       "anaemia                   299.0       0.431438      0.496107      0.0   \n",
       "creatinine_phosphokinase  299.0     581.839465    970.287881     23.0   \n",
       "diabetes                  299.0       0.418060      0.494067      0.0   \n",
       "ejection_fraction         299.0      38.083612     11.834841     14.0   \n",
       "high_blood_pressure       299.0       0.351171      0.478136      0.0   \n",
       "platelets                 299.0  263358.029264  97804.236869  25100.0   \n",
       "serum_creatinine          299.0       1.393880      1.034510      0.5   \n",
       "serum_sodium              299.0     136.625418      4.412477    113.0   \n",
       "sex                       299.0       0.648829      0.478136      0.0   \n",
       "smoking                   299.0       0.321070      0.467670      0.0   \n",
       "time                      299.0     130.260870     77.614208      4.0   \n",
       "DEATH_EVENT               299.0       0.321070      0.467670      0.0   \n",
       "\n",
       "                               25%       50%       75%       max  \n",
       "age                           51.0      60.0      70.0      95.0  \n",
       "anaemia                        0.0       0.0       1.0       1.0  \n",
       "creatinine_phosphokinase     116.5     250.0     582.0    7861.0  \n",
       "diabetes                       0.0       0.0       1.0       1.0  \n",
       "ejection_fraction             30.0      38.0      45.0      80.0  \n",
       "high_blood_pressure            0.0       0.0       1.0       1.0  \n",
       "platelets                 212500.0  262000.0  303500.0  850000.0  \n",
       "serum_creatinine               0.9       1.1       1.4       9.4  \n",
       "serum_sodium                 134.0     137.0     140.0     148.0  \n",
       "sex                            0.0       1.0       1.0       1.0  \n",
       "smoking                        0.0       0.0       1.0       1.0  \n",
       "time                          73.0     115.0     203.0     285.0  \n",
       "DEATH_EVENT                    0.0       0.0       1.0       1.0  "
      ]
     },
     "execution_count": 39,
     "metadata": {},
     "output_type": "execute_result"
    }
   ],
   "source": [
    "dataset.describe().T"
   ]
  },
  {
   "cell_type": "code",
   "execution_count": 40,
   "id": "3a217e76-5ab1-444b-8701-ed06017c1183",
   "metadata": {
    "colab": {
     "base_uri": "https://localhost:8080/"
    },
    "id": "3a217e76-5ab1-444b-8701-ed06017c1183",
    "outputId": "14d1bd09-a5a2-48a2-9666-1483568022f0"
   },
   "outputs": [
    {
     "name": "stdout",
     "output_type": "stream",
     "text": [
      "<class 'pandas.core.frame.DataFrame'>\n",
      "RangeIndex: 299 entries, 0 to 298\n",
      "Data columns (total 13 columns):\n",
      " #   Column                    Non-Null Count  Dtype  \n",
      "---  ------                    --------------  -----  \n",
      " 0   age                       299 non-null    float64\n",
      " 1   anaemia                   299 non-null    int64  \n",
      " 2   creatinine_phosphokinase  299 non-null    int64  \n",
      " 3   diabetes                  299 non-null    int64  \n",
      " 4   ejection_fraction         299 non-null    int64  \n",
      " 5   high_blood_pressure       299 non-null    int64  \n",
      " 6   platelets                 299 non-null    float64\n",
      " 7   serum_creatinine          299 non-null    float64\n",
      " 8   serum_sodium              299 non-null    int64  \n",
      " 9   sex                       299 non-null    int64  \n",
      " 10  smoking                   299 non-null    int64  \n",
      " 11  time                      299 non-null    int64  \n",
      " 12  DEATH_EVENT               299 non-null    int64  \n",
      "dtypes: float64(3), int64(10)\n",
      "memory usage: 30.5 KB\n"
     ]
    }
   ],
   "source": [
    "dataset.info()"
   ]
  },
  {
   "cell_type": "code",
   "execution_count": 41,
   "id": "9510dba3-e74a-4c51-bf11-41dcb328ef3d",
   "metadata": {
    "colab": {
     "base_uri": "https://localhost:8080/"
    },
    "id": "9510dba3-e74a-4c51-bf11-41dcb328ef3d",
    "outputId": "f53eedbe-a2cb-4b31-a091-b4e2de3b122e"
   },
   "outputs": [
    {
     "data": {
      "text/plain": [
       "age                         0\n",
       "anaemia                     0\n",
       "creatinine_phosphokinase    0\n",
       "diabetes                    0\n",
       "ejection_fraction           0\n",
       "high_blood_pressure         0\n",
       "platelets                   0\n",
       "serum_creatinine            0\n",
       "serum_sodium                0\n",
       "sex                         0\n",
       "smoking                     0\n",
       "time                        0\n",
       "DEATH_EVENT                 0\n",
       "dtype: int64"
      ]
     },
     "execution_count": 41,
     "metadata": {},
     "output_type": "execute_result"
    }
   ],
   "source": [
    "dataset.isnull().sum()       #No null values"
   ]
  },
  {
   "cell_type": "code",
   "execution_count": null,
   "id": "9a2c8923-718c-4c63-87e6-062070b98319",
   "metadata": {
    "id": "9a2c8923-718c-4c63-87e6-062070b98319"
   },
   "outputs": [],
   "source": []
  },
  {
   "cell_type": "code",
   "execution_count": 42,
   "id": "fa63d105-dc05-4d4b-9d71-7b9517978e0f",
   "metadata": {
    "colab": {
     "base_uri": "https://localhost:8080/"
    },
    "id": "fa63d105-dc05-4d4b-9d71-7b9517978e0f",
    "outputId": "85f51e84-0ff7-488e-b23d-59029a732756"
   },
   "outputs": [
    {
     "data": {
      "text/plain": [
       "0"
      ]
     },
     "execution_count": 42,
     "metadata": {},
     "output_type": "execute_result"
    }
   ],
   "source": [
    "#Checking duplicate rows \n",
    "dataset.duplicated().any().sum()"
   ]
  },
  {
   "cell_type": "code",
   "execution_count": 43,
   "id": "958a8f7d",
   "metadata": {
    "colab": {
     "base_uri": "https://localhost:8080/"
    },
    "id": "958a8f7d",
    "outputId": "000a5db7-23c2-4ee8-9456-1f9a2afc7920"
   },
   "outputs": [
    {
     "data": {
      "text/plain": [
       "age                          47\n",
       "anaemia                       2\n",
       "creatinine_phosphokinase    208\n",
       "diabetes                      2\n",
       "ejection_fraction            17\n",
       "high_blood_pressure           2\n",
       "platelets                   176\n",
       "serum_creatinine             40\n",
       "serum_sodium                 27\n",
       "sex                           2\n",
       "smoking                       2\n",
       "time                        148\n",
       "DEATH_EVENT                   2\n",
       "dtype: int64"
      ]
     },
     "execution_count": 43,
     "metadata": {},
     "output_type": "execute_result"
    }
   ],
   "source": [
    "dataset.nunique()"
   ]
  },
  {
   "cell_type": "code",
   "execution_count": 44,
   "id": "16303171-2c1b-455a-897c-f24fb2cb7df9",
   "metadata": {
    "id": "16303171-2c1b-455a-897c-f24fb2cb7df9"
   },
   "outputs": [],
   "source": [
    "col_with_binary_vals = ['anaemia','diabetes','high_blood_pressure','sex','smoking','DEATH_EVENT']"
   ]
  },
  {
   "cell_type": "code",
   "execution_count": 45,
   "id": "98bd1eed",
   "metadata": {
    "id": "98bd1eed"
   },
   "outputs": [],
   "source": [
    "col_without_binary_vals=[i for i in dataset.columns if i not in col_with_binary_vals]"
   ]
  },
  {
   "cell_type": "code",
   "execution_count": 46,
   "id": "6363ae7c",
   "metadata": {
    "colab": {
     "base_uri": "https://localhost:8080/"
    },
    "id": "6363ae7c",
    "outputId": "68225dbd-fa93-4977-885b-c298e01e756a"
   },
   "outputs": [
    {
     "data": {
      "text/plain": [
       "['age',\n",
       " 'creatinine_phosphokinase',\n",
       " 'ejection_fraction',\n",
       " 'platelets',\n",
       " 'serum_creatinine',\n",
       " 'serum_sodium',\n",
       " 'time']"
      ]
     },
     "execution_count": 46,
     "metadata": {},
     "output_type": "execute_result"
    }
   ],
   "source": [
    "col_without_binary_vals"
   ]
  },
  {
   "cell_type": "code",
   "execution_count": 47,
   "id": "93e949ef",
   "metadata": {
    "colab": {
     "base_uri": "https://localhost:8080/",
     "height": 825
    },
    "id": "93e949ef",
    "outputId": "57459baf-7034-42f8-a903-56d52d681f85"
   },
   "outputs": [
    {
     "data": {
      "image/png": "[encoded data removed]",
      "text/plain": [
       "<Figure size 1008x1008 with 9 Axes>"
      ]
     },
     "metadata": {
      "needs_background": "light"
     },
     "output_type": "display_data"
    }
   ],
   "source": [
    "# Creating histograms to chech distriution\n",
    "dataset[col_without_binary_vals].hist(figsize=(14,14))\n",
    "plt.show()"
   ]
  },
  {
   "cell_type": "markdown",
   "id": "97539038-1f41-498a-9860-197fbbe937ac",
   "metadata": {
    "colab": {
     "base_uri": "https://localhost:8080/",
     "height": 1000
    },
    "id": "dface905",
    "outputId": "40cf1d2c-6819-4dff-de9a-e0cbed112752"
   },
   "source": [
    "for i in col_with_binary_vals:\n",
    "    ax=sns.countplot(x=dataset[i])\n",
    "    ax.bar_label(ax.containers[0])\n",
    "    plt.title(f'{i} Count Distribution')\n",
    "    plt.xlabel(f'{i}')\n",
    "    plt.ylabel(f'{i} Count')\n",
    "    plt.xticks(rotation = 90);\n",
    "    plt.show()"
   ]
  },
  {
   "cell_type": "code",
   "execution_count": 48,
   "id": "e2a56360-d973-4acc-9aab-bc4062f4b282",
   "metadata": {},
   "outputs": [
    {
     "name": "stderr",
     "output_type": "stream",
     "text": [
      "C:\\Users\\DCPC\\anaconda3\\lib\\site-packages\\seaborn\\_decorators.py:36: FutureWarning: Pass the following variable as a keyword arg: x. From version 0.12, the only valid positional argument will be `data`, and passing other arguments without an explicit keyword will result in an error or misinterpretation.\n",
      "  warnings.warn(\n"
     ]
    },
    {
     "ename": "AttributeError",
     "evalue": "'AxesSubplot' object has no attribute 'unique'",
     "output_type": "error",
     "traceback": [
      "\u001b[1;31m---------------------------------------------------------------------------\u001b[0m",
      "\u001b[1;31mAttributeError\u001b[0m                            Traceback (most recent call last)",
      "Input \u001b[1;32mIn [48]\u001b[0m, in \u001b[0;36m<cell line: 2>\u001b[1;34m()\u001b[0m\n\u001b[0;32m      1\u001b[0m \u001b[38;5;66;03m#Plot the unique values to check class imbalance\u001b[39;00m\n\u001b[1;32m----> 2\u001b[0m \u001b[43msns\u001b[49m\u001b[38;5;241;43m.\u001b[39;49m\u001b[43mcountplot\u001b[49m\u001b[43m(\u001b[49m\u001b[43mdataset\u001b[49m\u001b[43m[\u001b[49m\u001b[38;5;124;43m'\u001b[39;49m\u001b[38;5;124;43mDEATH_EVENT\u001b[39;49m\u001b[38;5;124;43m'\u001b[39;49m\u001b[43m]\u001b[49m\u001b[43m)\u001b[49m\u001b[38;5;241;43m.\u001b[39;49m\u001b[43munique\u001b[49m()\n",
      "\u001b[1;31mAttributeError\u001b[0m: 'AxesSubplot' object has no attribute 'unique'"
     ]
    },
    {
     "data": {
      "image/png": "[encoded data removed]",
      "text/plain": [
       "<Figure size 432x288 with 1 Axes>"
      ]
     },
     "metadata": {
      "needs_background": "light"
     },
     "output_type": "display_data"
    }
   ],
   "source": [
    "#Plot the unique values to check class imbalance\n",
    "sns.countplot(dataset['DEATH_EVENT']).unique()"
   ]
  },
  {
   "cell_type": "code",
   "execution_count": 49,
   "id": "ee59e87a-2e53-4958-b707-31c46a38bb91",
   "metadata": {},
   "outputs": [],
   "source": [
    "num_var = dataset.loc[:,['age','creatinine_phosphokinase','ejection_fraction','platelets','serum_creatinine', 'serum_sodium', 'time']].copy()"
   ]
  },
  {
   "cell_type": "code",
   "execution_count": 50,
   "id": "053acea4-abde-4f3a-bb9c-864ab8d9dd80",
   "metadata": {},
   "outputs": [
    {
     "name": "stderr",
     "output_type": "stream",
     "text": [
      "C:\\Users\\DCPC\\anaconda3\\lib\\site-packages\\seaborn\\_decorators.py:36: FutureWarning: Pass the following variable as a keyword arg: x. From version 0.12, the only valid positional argument will be `data`, and passing other arguments without an explicit keyword will result in an error or misinterpretation.\n",
      "  warnings.warn(\n",
      "C:\\Users\\DCPC\\anaconda3\\lib\\site-packages\\seaborn\\_decorators.py:36: FutureWarning: Pass the following variable as a keyword arg: x. From version 0.12, the only valid positional argument will be `data`, and passing other arguments without an explicit keyword will result in an error or misinterpretation.\n",
      "  warnings.warn(\n",
      "C:\\Users\\DCPC\\anaconda3\\lib\\site-packages\\seaborn\\_decorators.py:36: FutureWarning: Pass the following variable as a keyword arg: x. From version 0.12, the only valid positional argument will be `data`, and passing other arguments without an explicit keyword will result in an error or misinterpretation.\n",
      "  warnings.warn(\n",
      "C:\\Users\\DCPC\\anaconda3\\lib\\site-packages\\seaborn\\_decorators.py:36: FutureWarning: Pass the following variable as a keyword arg: x. From version 0.12, the only valid positional argument will be `data`, and passing other arguments without an explicit keyword will result in an error or misinterpretation.\n",
      "  warnings.warn(\n",
      "C:\\Users\\DCPC\\anaconda3\\lib\\site-packages\\seaborn\\_decorators.py:36: FutureWarning: Pass the following variable as a keyword arg: x. From version 0.12, the only valid positional argument will be `data`, and passing other arguments without an explicit keyword will result in an error or misinterpretation.\n",
      "  warnings.warn(\n",
      "C:\\Users\\DCPC\\anaconda3\\lib\\site-packages\\seaborn\\_decorators.py:36: FutureWarning: Pass the following variable as a keyword arg: x. From version 0.12, the only valid positional argument will be `data`, and passing other arguments without an explicit keyword will result in an error or misinterpretation.\n",
      "  warnings.warn(\n",
      "C:\\Users\\DCPC\\anaconda3\\lib\\site-packages\\seaborn\\_decorators.py:36: FutureWarning: Pass the following variable as a keyword arg: x. From version 0.12, the only valid positional argument will be `data`, and passing other arguments without an explicit keyword will result in an error or misinterpretation.\n",
      "  warnings.warn(\n"
     ]
    },
    {
     "data": {
      "image/png": "[encoded data removed]",
      "text/plain": [
       "<Figure size 1440x1080 with 7 Axes>"
      ]
     },
     "metadata": {
      "needs_background": "light"
     },
     "output_type": "display_data"
    }
   ],
   "source": [
    "plt.figure(figsize=(20,15))\n",
    "plt.title(\"Box Plot for Features\")\n",
    "for i in range(len(num_var.columns)):\n",
    "    plt.subplot(4,2 , i+1)\n",
    "    sns.boxplot(num_var[num_var.columns[i]])\n"
   ]
  },
  {
   "cell_type": "code",
   "execution_count": 51,
   "id": "369a3cd0",
   "metadata": {
    "colab": {
     "base_uri": "https://localhost:8080/",
     "height": 625
    },
    "id": "369a3cd0",
    "outputId": "6003fdc1-ae3e-468c-92a3-5e05cf3b24fe"
   },
   "outputs": [
    {
     "data": {
      "text/plain": [
       "<function matplotlib.pyplot.show(close=None, block=None)>"
      ]
     },
     "execution_count": 51,
     "metadata": {},
     "output_type": "execute_result"
    },
    {
     "data": {
      "image/png": "[encoded data removed]",
      "text/plain": [
       "<Figure size 1080x576 with 2 Axes>"
      ]
     },
     "metadata": {
      "needs_background": "light"
     },
     "output_type": "display_data"
    }
   ],
   "source": [
    "# Plotting the correlation between numerical variables\n",
    "plt.figure(figsize=(15,8))\n",
    "sns.heatmap(dataset.corr(),annot=True, fmt='0.2f')\n",
    "plt.title('Correlation plot of the dataset')\n",
    "plt.show"
   ]
  },
  {
   "cell_type": "code",
   "execution_count": 52,
   "id": "344fd085-5a0f-4c6f-b16c-5f2a284a253f",
   "metadata": {},
   "outputs": [
    {
     "data": {
      "text/plain": [
       "(280, 13)"
      ]
     },
     "execution_count": 52,
     "metadata": {},
     "output_type": "execute_result"
    }
   ],
   "source": [
    "z = np.abs(stats.zscore(dataset))\n",
    "dataset3=dataset[(z<3).all(axis=1)]\n",
    "dataset3.shape"
   ]
  },
  {
   "cell_type": "markdown",
   "id": "29c85fe8-0ad3-4bc3-88ec-a84a01723609",
   "metadata": {},
   "source": [
    "Splitting data"
   ]
  },
  {
   "cell_type": "code",
   "execution_count": 53,
   "id": "f787fcd5-5d06-4a77-b8a4-d7b33a62bc44",
   "metadata": {
    "id": "f787fcd5-5d06-4a77-b8a4-d7b33a62bc44"
   },
   "outputs": [],
   "source": [
    "features_var = dataset.drop(['DEATH_EVENT'], axis=1)\n",
    "target_var = dataset['DEATH_EVENT']"
   ]
  },
  {
   "cell_type": "code",
   "execution_count": 54,
   "id": "a365ac55",
   "metadata": {
    "id": "a365ac55"
   },
   "outputs": [],
   "source": [
    "#MinMaxScaler\n",
    "scaler=MinMaxScaler()\n",
    "features_var=pd.DataFrame(scaler.fit_transform(features_var), columns=features_var.columns.tolist())"
   ]
  },
  {
   "cell_type": "code",
   "execution_count": 55,
   "id": "2cadd0f4",
   "metadata": {
    "id": "2cadd0f4"
   },
   "outputs": [],
   "source": [
    "# Splitting the dataset into train and test data\n",
    "X_train, X_test, y_train, y_test =  train_test_split(features_var, target_var, test_size=0.3, random_state=42, stratify=target_var)"
   ]
  },
  {
   "cell_type": "code",
   "execution_count": 56,
   "id": "3db2cc99",
   "metadata": {
    "id": "3db2cc99"
   },
   "outputs": [],
   "source": [
    "def metrics_score(actual, predicted):\n",
    "    print(classification_report(actual, predicted))\n",
    "    cm = confusion_matrix(actual, predicted)\n",
    "    plt.figure(figsize=(8,5))\n",
    "    sns.heatmap(cm, annot=True,  fmt='.2f', xticklabels=['0', '1'], yticklabels=['0', '1'])\n",
    "    plt.ylabel('Actual')\n",
    "    plt.xlabel('Predicted')\n",
    "    plt.show()"
   ]
  },
  {
   "cell_type": "code",
   "execution_count": null,
   "id": "ba1bbff7",
   "metadata": {
    "id": "ba1bbff7",
    "outputId": "82dbc6f1-a8a7-4a7b-a468-612dbfb62489"
   },
   "outputs": [
    {
     "data": {
      "text/plain": [
       "LogisticRegression()"
      ]
     },
     "execution_count": 139,
     "metadata": {},
     "output_type": "execute_result"
    }
   ],
   "source": [
    "# Fitting logistic regression model\n",
    "lg=LogisticRegression()\n",
    "lg.fit(X_train,y_train)"
   ]
  },
  {
   "cell_type": "code",
   "execution_count": null,
   "id": "58091606",
   "metadata": {
    "id": "58091606",
    "outputId": "5b9330dc-b0fa-4eca-c5e5-5473c9ef0f88",
    "scrolled": true
   },
   "outputs": [
    {
     "name": "stdout",
     "output_type": "stream",
     "text": [
      "              precision    recall  f1-score   support\n",
      "\n",
      "           0       0.86      0.94      0.90       142\n",
      "           1       0.83      0.67      0.74        67\n",
      "\n",
      "    accuracy                           0.85       209\n",
      "   macro avg       0.85      0.80      0.82       209\n",
      "weighted avg       0.85      0.85      0.85       209\n",
      "\n"
     ]
    },
    {
     "data": {
      "image/png": "[encoded data removed]",
      "text/plain": [
       "<Figure size 576x360 with 2 Axes>"
      ]
     },
     "metadata": {
      "needs_background": "light"
     },
     "output_type": "display_data"
    }
   ],
   "source": [
    "# Checking the performance on the training data\n",
    "y_pred_train = lg.predict(X_train)\n",
    "\n",
    "metrics_score(y_train, y_pred_train)"
   ]
  },
  {
   "cell_type": "code",
   "execution_count": null,
   "id": "d9de6393",
   "metadata": {
    "id": "d9de6393",
    "outputId": "9e134d95-033d-409d-c6c3-4bd18653f8aa"
   },
   "outputs": [
    {
     "name": "stdout",
     "output_type": "stream",
     "text": [
      "              precision    recall  f1-score   support\n",
      "\n",
      "           0       0.81      0.97      0.88        61\n",
      "           1       0.88      0.52      0.65        29\n",
      "\n",
      "    accuracy                           0.82        90\n",
      "   macro avg       0.85      0.74      0.77        90\n",
      "weighted avg       0.83      0.82      0.81        90\n",
      "\n"
     ]
    },
    {
     "data": {
      "image/png": "[encoded data removed]",
      "text/plain": [
       "<Figure size 576x360 with 2 Axes>"
      ]
     },
     "metadata": {
      "needs_background": "light"
     },
     "output_type": "display_data"
    }
   ],
   "source": [
    "# Checking the performance on the test dataset\n",
    "y_pred_test = lg.predict(X_test)\n",
    "\n",
    "metrics_score(y_test, y_pred_test)"
   ]
  },
  {
   "cell_type": "code",
   "execution_count": null,
   "id": "6288b508",
   "metadata": {
    "id": "6288b508",
    "outputId": "d6ecf1a9-9531-4694-dbda-12682ba485f5"
   },
   "outputs": [
    {
     "data": {
      "text/html": [
       "<div>\n",
       "<style scoped>\n",
       "    .dataframe tbody tr th:only-of-type {\n",
       "        vertical-align: middle;\n",
       "    }\n",
       "\n",
       "    .dataframe tbody tr th {\n",
       "        vertical-align: top;\n",
       "    }\n",
       "\n",
       "    .dataframe thead th {\n",
       "        text-align: right;\n",
       "    }\n",
       "</style>\n",
       "<table border=\"1\" class=\"dataframe\">\n",
       "  <thead>\n",
       "    <tr style=\"text-align: right;\">\n",
       "      <th></th>\n",
       "      <th>0</th>\n",
       "    </tr>\n",
       "  </thead>\n",
       "  <tbody>\n",
       "    <tr>\n",
       "      <th>serum_creatinine</th>\n",
       "      <td>1.945388</td>\n",
       "    </tr>\n",
       "    <tr>\n",
       "      <th>creatinine_phosphokinase</th>\n",
       "      <td>0.845322</td>\n",
       "    </tr>\n",
       "    <tr>\n",
       "      <th>age</th>\n",
       "      <td>0.752731</td>\n",
       "    </tr>\n",
       "    <tr>\n",
       "      <th>anaemia</th>\n",
       "      <td>0.227423</td>\n",
       "    </tr>\n",
       "    <tr>\n",
       "      <th>smoking</th>\n",
       "      <td>0.165201</td>\n",
       "    </tr>\n",
       "    <tr>\n",
       "      <th>diabetes</th>\n",
       "      <td>0.165118</td>\n",
       "    </tr>\n",
       "    <tr>\n",
       "      <th>high_blood_pressure</th>\n",
       "      <td>-0.011153</td>\n",
       "    </tr>\n",
       "    <tr>\n",
       "      <th>sex</th>\n",
       "      <td>-0.063527</td>\n",
       "    </tr>\n",
       "    <tr>\n",
       "      <th>platelets</th>\n",
       "      <td>-0.220487</td>\n",
       "    </tr>\n",
       "    <tr>\n",
       "      <th>serum_sodium</th>\n",
       "      <td>-0.573231</td>\n",
       "    </tr>\n",
       "    <tr>\n",
       "      <th>ejection_fraction</th>\n",
       "      <td>-2.018915</td>\n",
       "    </tr>\n",
       "    <tr>\n",
       "      <th>time</th>\n",
       "      <td>-3.406546</td>\n",
       "    </tr>\n",
       "  </tbody>\n",
       "</table>\n",
       "</div>"
      ],
      "text/plain": [
       "                                 0\n",
       "serum_creatinine          1.945388\n",
       "creatinine_phosphokinase  0.845322\n",
       "age                       0.752731\n",
       "anaemia                   0.227423\n",
       "smoking                   0.165201\n",
       "diabetes                  0.165118\n",
       "high_blood_pressure      -0.011153\n",
       "sex                      -0.063527\n",
       "platelets                -0.220487\n",
       "serum_sodium             -0.573231\n",
       "ejection_fraction        -2.018915\n",
       "time                     -3.406546"
      ]
     },
     "execution_count": 142,
     "metadata": {},
     "output_type": "execute_result"
    }
   ],
   "source": [
    "#coefficients of logistic regression\n",
    "\n",
    "cols=X_train.columns\n",
    "\n",
    "coef_lg=lg.coef_\n",
    "\n",
    "pd.DataFrame(coef_lg,columns=cols).T.sort_values(by=0,ascending=False)"
   ]
  },
  {
   "cell_type": "code",
   "execution_count": null,
   "id": "a219e351",
   "metadata": {
    "id": "a219e351",
    "outputId": "c6fd90a5-86ff-419d-a455-bd3795946ec6"
   },
   "outputs": [
    {
     "data": {
      "image/png": "[encoded data removed]",
      "text/plain": [
       "<Figure size 720x504 with 1 Axes>"
      ]
     },
     "metadata": {
      "needs_background": "light"
     },
     "output_type": "display_data"
    }
   ],
   "source": [
    "# Predict_proba \n",
    "y_scores_lg=lg.predict_proba(X_train)\n",
    "\n",
    "precisions_lg, recalls_lg, thresholds_lg = precision_recall_curve(y_train, y_scores_lg[:,1])\n",
    "\n",
    "# Plot values of precisions, recalls, and thresholds\n",
    "plt.figure(figsize=(10,7))\n",
    "plt.plot(thresholds_lg, precisions_lg[:-1], 'b--', label='precision')\n",
    "plt.plot(thresholds_lg, recalls_lg[:-1], 'g--', label = 'recall')\n",
    "plt.xlabel('Threshold')\n",
    "plt.legend(loc='upper left')\n",
    "plt.ylim([0,1])\n",
    "plt.show()"
   ]
  },
  {
   "cell_type": "code",
   "execution_count": null,
   "id": "f5b112f4",
   "metadata": {
    "id": "f5b112f4",
    "outputId": "e221cdf7-ccd1-4e48-cd9a-99e96b09f92a"
   },
   "outputs": [
    {
     "name": "stdout",
     "output_type": "stream",
     "text": [
      "              precision    recall  f1-score   support\n",
      "\n",
      "           0       0.89      0.89      0.89       142\n",
      "           1       0.76      0.76      0.76        67\n",
      "\n",
      "    accuracy                           0.85       209\n",
      "   macro avg       0.82      0.82      0.82       209\n",
      "weighted avg       0.85      0.85      0.85       209\n",
      "\n"
     ]
    },
    {
     "data": {
      "image/png": "[encoded data removed]",
      "text/plain": [
       "<Figure size 576x360 with 2 Axes>"
      ]
     },
     "metadata": {
      "needs_background": "light"
     },
     "output_type": "display_data"
    }
   ],
   "source": [
    "optimal_threshold=.41\n",
    "y_pred_train = lg.predict_proba(X_train)\n",
    "\n",
    "metrics_score(y_train, y_pred_train[:,1]>optimal_threshold)"
   ]
  },
  {
   "cell_type": "code",
   "execution_count": null,
   "id": "822c656b",
   "metadata": {
    "id": "822c656b",
    "outputId": "36d32871-a7c9-4a6f-ee73-c916ec0c2078"
   },
   "outputs": [
    {
     "name": "stdout",
     "output_type": "stream",
     "text": [
      "              precision    recall  f1-score   support\n",
      "\n",
      "           0       0.84      0.89      0.86        61\n",
      "           1       0.73      0.66      0.69        29\n",
      "\n",
      "    accuracy                           0.81        90\n",
      "   macro avg       0.79      0.77      0.78        90\n",
      "weighted avg       0.81      0.81      0.81        90\n",
      "\n"
     ]
    },
    {
     "data": {
      "image/png": "[encoded data removed]",
      "text/plain": [
       "<Figure size 576x360 with 2 Axes>"
      ]
     },
     "metadata": {
      "needs_background": "light"
     },
     "output_type": "display_data"
    }
   ],
   "source": [
    "optimal_threshold=.41\n",
    "y_pred_test = lg.predict_proba(X_test)\n",
    "\n",
    "metrics_score(y_test, y_pred_test[:,1]>optimal_threshold)"
   ]
  },
  {
   "cell_type": "code",
   "execution_count": 29,
   "id": "aa02937d",
   "metadata": {
    "id": "aa02937d"
   },
   "outputs": [],
   "source": [
    "# Setting the seed for random number generators\n",
    "np.random.seed(42)\n",
    "\n",
    "import random\n",
    "random.seed(42)\n",
    "\n",
    "tf.random.set_seed(42)"
   ]
  },
  {
   "cell_type": "markdown",
   "id": "e70f77f2-3e04-46f0-baf2-3e69e14de78c",
   "metadata": {
    "id": "qGT8Mio65VVm"
   },
   "source": [
    "## Neural Network\n"
   ]
  },
  {
   "cell_type": "code",
   "execution_count": 39,
   "id": "ef94026c",
   "metadata": {
    "id": "ef94026c"
   },
   "outputs": [],
   "source": [
    "model = Sequential()\n",
    "model.add(Dense(130, activation='relu', input_shape=(12,)))\n",
    "model.add(Dropout(0.2))\n",
    "model.add(Dense(65, activation='relu'))\n",
    "model.add(Dropout(0.1))\n",
    "model.add(Dense(1, activation='sigmoid'))"
   ]
  },
  {
   "cell_type": "code",
   "execution_count": 40,
   "id": "bddeb28f",
   "metadata": {
    "colab": {
     "base_uri": "https://localhost:8080/"
    },
    "id": "bddeb28f",
    "outputId": "2a5b1934-3237-42c6-aab4-f134d632e799"
   },
   "outputs": [
    {
     "name": "stdout",
     "output_type": "stream",
     "text": [
      "Model: \"sequential\"\n",
      "_________________________________________________________________\n",
      " Layer (type)                Output Shape              Param #   \n",
      "=================================================================\n",
      " dense (Dense)               (None, 130)               1690      \n",
      "                                                                 \n",
      " dropout (Dropout)           (None, 130)               0         \n",
      "                                                                 \n",
      " dense_1 (Dense)             (None, 65)                8515      \n",
      "                                                                 \n",
      " dropout_1 (Dropout)         (None, 65)                0         \n",
      "                                                                 \n",
      " dense_2 (Dense)             (None, 1)                 66        \n",
      "                                                                 \n",
      "=================================================================\n",
      "Total params: 10,271\n",
      "Trainable params: 10,271\n",
      "Non-trainable params: 0\n",
      "_________________________________________________________________\n"
     ]
    }
   ],
   "source": [
    "model.compile(loss = 'binary_crossentropy', optimizer='adamax', metrics=['accuracy'])\n",
    "model.summary()"
   ]
  },
  {
   "cell_type": "code",
   "execution_count": 41,
   "id": "d77b549c",
   "metadata": {
    "colab": {
     "base_uri": "https://localhost:8080/"
    },
    "id": "d77b549c",
    "outputId": "8716589b-d1ff-46b7-ab7d-09f35e5cb0a2"
   },
   "outputs": [
    {
     "name": "stdout",
     "output_type": "stream",
     "text": [
      "Epoch 1/150\n",
      "6/6 [==============================] - 1s 35ms/step - loss: 0.6658 - accuracy: 0.6543 - val_loss: 0.6178 - val_accuracy: 0.7619\n",
      "Epoch 2/150\n",
      "6/6 [==============================] - 0s 6ms/step - loss: 0.6358 - accuracy: 0.6755 - val_loss: 0.5832 - val_accuracy: 0.7619\n",
      "Epoch 3/150\n",
      "6/6 [==============================] - 0s 10ms/step - loss: 0.6187 - accuracy: 0.6702 - val_loss: 0.5606 - val_accuracy: 0.7619\n",
      "Epoch 4/150\n",
      "6/6 [==============================] - 0s 8ms/step - loss: 0.6081 - accuracy: 0.6702 - val_loss: 0.5449 - val_accuracy: 0.7619\n",
      "Epoch 5/150\n",
      "6/6 [==============================] - 0s 7ms/step - loss: 0.6053 - accuracy: 0.6702 - val_loss: 0.5343 - val_accuracy: 0.7619\n",
      "Epoch 6/150\n",
      "6/6 [==============================] - 0s 6ms/step - loss: 0.6025 - accuracy: 0.6702 - val_loss: 0.5290 - val_accuracy: 0.7619\n",
      "Epoch 7/150\n",
      "6/6 [==============================] - 0s 7ms/step - loss: 0.5899 - accuracy: 0.6702 - val_loss: 0.5212 - val_accuracy: 0.7619\n",
      "Epoch 8/150\n",
      "6/6 [==============================] - 0s 6ms/step - loss: 0.5780 - accuracy: 0.6702 - val_loss: 0.5168 - val_accuracy: 0.7619\n",
      "Epoch 9/150\n",
      "6/6 [==============================] - 0s 6ms/step - loss: 0.5731 - accuracy: 0.6702 - val_loss: 0.5117 - val_accuracy: 0.7619\n",
      "Epoch 10/150\n",
      "6/6 [==============================] - 0s 8ms/step - loss: 0.5781 - accuracy: 0.6702 - val_loss: 0.5083 - val_accuracy: 0.7619\n",
      "Epoch 11/150\n",
      "6/6 [==============================] - 0s 6ms/step - loss: 0.5717 - accuracy: 0.6702 - val_loss: 0.5033 - val_accuracy: 0.7619\n",
      "Epoch 12/150\n",
      "6/6 [==============================] - 0s 6ms/step - loss: 0.5572 - accuracy: 0.6702 - val_loss: 0.4981 - val_accuracy: 0.7619\n",
      "Epoch 13/150\n",
      "6/6 [==============================] - 0s 7ms/step - loss: 0.5675 - accuracy: 0.6702 - val_loss: 0.4936 - val_accuracy: 0.7619\n",
      "Epoch 14/150\n",
      "6/6 [==============================] - 0s 6ms/step - loss: 0.5502 - accuracy: 0.6862 - val_loss: 0.4902 - val_accuracy: 0.7619\n",
      "Epoch 15/150\n",
      "6/6 [==============================] - 0s 7ms/step - loss: 0.5410 - accuracy: 0.7287 - val_loss: 0.4854 - val_accuracy: 0.7619\n",
      "Epoch 16/150\n",
      "6/6 [==============================] - 0s 6ms/step - loss: 0.5441 - accuracy: 0.7021 - val_loss: 0.4804 - val_accuracy: 0.7619\n",
      "Epoch 17/150\n",
      "6/6 [==============================] - 0s 7ms/step - loss: 0.5412 - accuracy: 0.7287 - val_loss: 0.4726 - val_accuracy: 0.7619\n",
      "Epoch 18/150\n",
      "6/6 [==============================] - 0s 6ms/step - loss: 0.5366 - accuracy: 0.7128 - val_loss: 0.4684 - val_accuracy: 0.7619\n",
      "Epoch 19/150\n",
      "6/6 [==============================] - 0s 6ms/step - loss: 0.5262 - accuracy: 0.7394 - val_loss: 0.4616 - val_accuracy: 0.7619\n",
      "Epoch 20/150\n",
      "6/6 [==============================] - 0s 7ms/step - loss: 0.5223 - accuracy: 0.7287 - val_loss: 0.4552 - val_accuracy: 0.7619\n",
      "Epoch 21/150\n",
      "6/6 [==============================] - 0s 7ms/step - loss: 0.5107 - accuracy: 0.7500 - val_loss: 0.4478 - val_accuracy: 0.7619\n",
      "Epoch 22/150\n",
      "6/6 [==============================] - 0s 8ms/step - loss: 0.5066 - accuracy: 0.7500 - val_loss: 0.4422 - val_accuracy: 0.7619\n",
      "Epoch 23/150\n",
      "6/6 [==============================] - 0s 7ms/step - loss: 0.5051 - accuracy: 0.7606 - val_loss: 0.4379 - val_accuracy: 0.7619\n",
      "Epoch 24/150\n",
      "6/6 [==============================] - 0s 8ms/step - loss: 0.4971 - accuracy: 0.7660 - val_loss: 0.4326 - val_accuracy: 0.7619\n",
      "Epoch 25/150\n",
      "6/6 [==============================] - 0s 12ms/step - loss: 0.4863 - accuracy: 0.7926 - val_loss: 0.4252 - val_accuracy: 0.7619\n",
      "Epoch 26/150\n",
      "6/6 [==============================] - 0s 7ms/step - loss: 0.4863 - accuracy: 0.7819 - val_loss: 0.4198 - val_accuracy: 0.7619\n",
      "Epoch 27/150\n",
      "6/6 [==============================] - 0s 7ms/step - loss: 0.4784 - accuracy: 0.7819 - val_loss: 0.4127 - val_accuracy: 0.7619\n",
      "Epoch 28/150\n",
      "6/6 [==============================] - 0s 7ms/step - loss: 0.4800 - accuracy: 0.7926 - val_loss: 0.4066 - val_accuracy: 0.7619\n",
      "Epoch 29/150\n",
      "6/6 [==============================] - 0s 7ms/step - loss: 0.4797 - accuracy: 0.7979 - val_loss: 0.4004 - val_accuracy: 0.7619\n",
      "Epoch 30/150\n",
      "6/6 [==============================] - 0s 7ms/step - loss: 0.4723 - accuracy: 0.7979 - val_loss: 0.3937 - val_accuracy: 0.7619\n",
      "Epoch 31/150\n",
      "6/6 [==============================] - 0s 9ms/step - loss: 0.4618 - accuracy: 0.8085 - val_loss: 0.3867 - val_accuracy: 0.8095\n",
      "Epoch 32/150\n",
      "6/6 [==============================] - 0s 7ms/step - loss: 0.4540 - accuracy: 0.8245 - val_loss: 0.3809 - val_accuracy: 0.8571\n",
      "Epoch 33/150\n",
      "6/6 [==============================] - 0s 7ms/step - loss: 0.4422 - accuracy: 0.8298 - val_loss: 0.3753 - val_accuracy: 0.8571\n",
      "Epoch 34/150\n",
      "6/6 [==============================] - 0s 7ms/step - loss: 0.4563 - accuracy: 0.8245 - val_loss: 0.3688 - val_accuracy: 0.8571\n",
      "Epoch 35/150\n",
      "6/6 [==============================] - 0s 9ms/step - loss: 0.4393 - accuracy: 0.8298 - val_loss: 0.3636 - val_accuracy: 0.8571\n",
      "Epoch 36/150\n",
      "6/6 [==============================] - 0s 10ms/step - loss: 0.4380 - accuracy: 0.7979 - val_loss: 0.3584 - val_accuracy: 0.9048\n",
      "Epoch 37/150\n",
      "6/6 [==============================] - 0s 7ms/step - loss: 0.4601 - accuracy: 0.8245 - val_loss: 0.3531 - val_accuracy: 0.9048\n",
      "Epoch 38/150\n",
      "6/6 [==============================] - 0s 7ms/step - loss: 0.4541 - accuracy: 0.8298 - val_loss: 0.3505 - val_accuracy: 0.9048\n",
      "Epoch 39/150\n",
      "6/6 [==============================] - 0s 7ms/step - loss: 0.4400 - accuracy: 0.8245 - val_loss: 0.3453 - val_accuracy: 0.9048\n",
      "Epoch 40/150\n",
      "6/6 [==============================] - 0s 7ms/step - loss: 0.4471 - accuracy: 0.8032 - val_loss: 0.3407 - val_accuracy: 0.9048\n",
      "Epoch 41/150\n",
      "6/6 [==============================] - 0s 7ms/step - loss: 0.4441 - accuracy: 0.8032 - val_loss: 0.3368 - val_accuracy: 0.9048\n",
      "Epoch 42/150\n",
      "6/6 [==============================] - 0s 8ms/step - loss: 0.4330 - accuracy: 0.8404 - val_loss: 0.3330 - val_accuracy: 0.9048\n",
      "Epoch 43/150\n",
      "6/6 [==============================] - 0s 7ms/step - loss: 0.4211 - accuracy: 0.8351 - val_loss: 0.3294 - val_accuracy: 0.9048\n",
      "Epoch 44/150\n",
      "6/6 [==============================] - 0s 7ms/step - loss: 0.4292 - accuracy: 0.8457 - val_loss: 0.3244 - val_accuracy: 0.9048\n",
      "Epoch 45/150\n",
      "6/6 [==============================] - 0s 7ms/step - loss: 0.4267 - accuracy: 0.8245 - val_loss: 0.3202 - val_accuracy: 0.9048\n",
      "Epoch 46/150\n",
      "6/6 [==============================] - 0s 8ms/step - loss: 0.4236 - accuracy: 0.8298 - val_loss: 0.3169 - val_accuracy: 0.9048\n",
      "Epoch 47/150\n",
      "6/6 [==============================] - 0s 7ms/step - loss: 0.4193 - accuracy: 0.8404 - val_loss: 0.3154 - val_accuracy: 0.8571\n",
      "Epoch 48/150\n",
      "6/6 [==============================] - 0s 7ms/step - loss: 0.4142 - accuracy: 0.8511 - val_loss: 0.3113 - val_accuracy: 0.8571\n",
      "Epoch 49/150\n",
      "6/6 [==============================] - 0s 7ms/step - loss: 0.4079 - accuracy: 0.8245 - val_loss: 0.3096 - val_accuracy: 0.9048\n",
      "Epoch 50/150\n",
      "6/6 [==============================] - 0s 9ms/step - loss: 0.4061 - accuracy: 0.8670 - val_loss: 0.3055 - val_accuracy: 0.9048\n",
      "Epoch 51/150\n",
      "6/6 [==============================] - 0s 7ms/step - loss: 0.4036 - accuracy: 0.8298 - val_loss: 0.3010 - val_accuracy: 0.8571\n",
      "Epoch 52/150\n",
      "6/6 [==============================] - 0s 8ms/step - loss: 0.4070 - accuracy: 0.8245 - val_loss: 0.2988 - val_accuracy: 0.8571\n",
      "Epoch 53/150\n",
      "6/6 [==============================] - 0s 7ms/step - loss: 0.4017 - accuracy: 0.8298 - val_loss: 0.2972 - val_accuracy: 0.8571\n",
      "Epoch 54/150\n",
      "6/6 [==============================] - 0s 7ms/step - loss: 0.3963 - accuracy: 0.8404 - val_loss: 0.2940 - val_accuracy: 0.8571\n",
      "Epoch 55/150\n",
      "6/6 [==============================] - 0s 7ms/step - loss: 0.4157 - accuracy: 0.8138 - val_loss: 0.2921 - val_accuracy: 0.8571\n",
      "Epoch 56/150\n",
      "6/6 [==============================] - 0s 7ms/step - loss: 0.4017 - accuracy: 0.8351 - val_loss: 0.2900 - val_accuracy: 0.8571\n",
      "Epoch 57/150\n",
      "6/6 [==============================] - 0s 7ms/step - loss: 0.4058 - accuracy: 0.8245 - val_loss: 0.2874 - val_accuracy: 0.8571\n",
      "Epoch 58/150\n",
      "6/6 [==============================] - 0s 6ms/step - loss: 0.3836 - accuracy: 0.8511 - val_loss: 0.2848 - val_accuracy: 0.8571\n",
      "Epoch 59/150\n",
      "6/6 [==============================] - 0s 6ms/step - loss: 0.4019 - accuracy: 0.8351 - val_loss: 0.2821 - val_accuracy: 0.8571\n",
      "Epoch 60/150\n",
      "6/6 [==============================] - 0s 7ms/step - loss: 0.4019 - accuracy: 0.8245 - val_loss: 0.2800 - val_accuracy: 0.8571\n",
      "Epoch 61/150\n",
      "6/6 [==============================] - 0s 7ms/step - loss: 0.3839 - accuracy: 0.8564 - val_loss: 0.2780 - val_accuracy: 0.9048\n",
      "Epoch 62/150\n",
      "6/6 [==============================] - 0s 8ms/step - loss: 0.3967 - accuracy: 0.8617 - val_loss: 0.2776 - val_accuracy: 0.9048\n",
      "Epoch 63/150\n",
      "6/6 [==============================] - 0s 6ms/step - loss: 0.3966 - accuracy: 0.8457 - val_loss: 0.2777 - val_accuracy: 0.9048\n",
      "Epoch 64/150\n",
      "6/6 [==============================] - 0s 7ms/step - loss: 0.4019 - accuracy: 0.8351 - val_loss: 0.2746 - val_accuracy: 0.9048\n",
      "Epoch 65/150\n",
      "6/6 [==============================] - 0s 7ms/step - loss: 0.3783 - accuracy: 0.8457 - val_loss: 0.2716 - val_accuracy: 0.9048\n",
      "Epoch 66/150\n",
      "6/6 [==============================] - 0s 7ms/step - loss: 0.3882 - accuracy: 0.8670 - val_loss: 0.2693 - val_accuracy: 0.9048\n",
      "Epoch 67/150\n",
      "6/6 [==============================] - 0s 6ms/step - loss: 0.3852 - accuracy: 0.8564 - val_loss: 0.2684 - val_accuracy: 0.9048\n",
      "Epoch 68/150\n",
      "6/6 [==============================] - 0s 7ms/step - loss: 0.3737 - accuracy: 0.8298 - val_loss: 0.2681 - val_accuracy: 0.9048\n",
      "Epoch 69/150\n",
      "6/6 [==============================] - 0s 7ms/step - loss: 0.3839 - accuracy: 0.8511 - val_loss: 0.2667 - val_accuracy: 0.9048\n",
      "Epoch 70/150\n",
      "6/6 [==============================] - 0s 6ms/step - loss: 0.3858 - accuracy: 0.8564 - val_loss: 0.2657 - val_accuracy: 0.9048\n",
      "Epoch 71/150\n",
      "6/6 [==============================] - 0s 7ms/step - loss: 0.3626 - accuracy: 0.8670 - val_loss: 0.2635 - val_accuracy: 0.9048\n",
      "Epoch 72/150\n",
      "6/6 [==============================] - 0s 8ms/step - loss: 0.3651 - accuracy: 0.8617 - val_loss: 0.2618 - val_accuracy: 0.9048\n",
      "Epoch 73/150\n",
      "6/6 [==============================] - 0s 8ms/step - loss: 0.3995 - accuracy: 0.8404 - val_loss: 0.2594 - val_accuracy: 0.9048\n",
      "Epoch 74/150\n",
      "6/6 [==============================] - 0s 8ms/step - loss: 0.3755 - accuracy: 0.8457 - val_loss: 0.2586 - val_accuracy: 0.9048\n",
      "Epoch 75/150\n",
      "6/6 [==============================] - 0s 11ms/step - loss: 0.3710 - accuracy: 0.8457 - val_loss: 0.2570 - val_accuracy: 0.9048\n",
      "Epoch 76/150\n",
      "6/6 [==============================] - 0s 7ms/step - loss: 0.3679 - accuracy: 0.8351 - val_loss: 0.2561 - val_accuracy: 0.9048\n",
      "Epoch 77/150\n",
      "6/6 [==============================] - 0s 6ms/step - loss: 0.3868 - accuracy: 0.8457 - val_loss: 0.2557 - val_accuracy: 0.9048\n",
      "Epoch 78/150\n",
      "6/6 [==============================] - 0s 6ms/step - loss: 0.3813 - accuracy: 0.8404 - val_loss: 0.2550 - val_accuracy: 0.9048\n",
      "Epoch 79/150\n",
      "6/6 [==============================] - 0s 7ms/step - loss: 0.3665 - accuracy: 0.8245 - val_loss: 0.2534 - val_accuracy: 0.9048\n",
      "Epoch 80/150\n",
      "6/6 [==============================] - 0s 7ms/step - loss: 0.3714 - accuracy: 0.8617 - val_loss: 0.2523 - val_accuracy: 0.9048\n",
      "Epoch 81/150\n",
      "6/6 [==============================] - 0s 7ms/step - loss: 0.3873 - accuracy: 0.8298 - val_loss: 0.2536 - val_accuracy: 0.9048\n",
      "Epoch 82/150\n",
      "6/6 [==============================] - 0s 7ms/step - loss: 0.3790 - accuracy: 0.8351 - val_loss: 0.2521 - val_accuracy: 0.9048\n",
      "Epoch 83/150\n",
      "6/6 [==============================] - 0s 7ms/step - loss: 0.3714 - accuracy: 0.8511 - val_loss: 0.2504 - val_accuracy: 0.9048\n",
      "Epoch 84/150\n",
      "6/6 [==============================] - 0s 7ms/step - loss: 0.3582 - accuracy: 0.8670 - val_loss: 0.2485 - val_accuracy: 0.9048\n",
      "Epoch 85/150\n",
      "6/6 [==============================] - 0s 7ms/step - loss: 0.3768 - accuracy: 0.8404 - val_loss: 0.2467 - val_accuracy: 0.9048\n",
      "Epoch 86/150\n",
      "6/6 [==============================] - 0s 6ms/step - loss: 0.3652 - accuracy: 0.8511 - val_loss: 0.2465 - val_accuracy: 0.9048\n",
      "Epoch 87/150\n",
      "6/6 [==============================] - 0s 7ms/step - loss: 0.3875 - accuracy: 0.8138 - val_loss: 0.2448 - val_accuracy: 0.9048\n",
      "Epoch 88/150\n",
      "6/6 [==============================] - 0s 7ms/step - loss: 0.3610 - accuracy: 0.8511 - val_loss: 0.2438 - val_accuracy: 0.9048\n",
      "Epoch 89/150\n",
      "6/6 [==============================] - 0s 7ms/step - loss: 0.3844 - accuracy: 0.8564 - val_loss: 0.2449 - val_accuracy: 0.9048\n",
      "Epoch 90/150\n",
      "6/6 [==============================] - 0s 7ms/step - loss: 0.3421 - accuracy: 0.8457 - val_loss: 0.2449 - val_accuracy: 0.9048\n",
      "Epoch 91/150\n",
      "6/6 [==============================] - 0s 7ms/step - loss: 0.3784 - accuracy: 0.8457 - val_loss: 0.2441 - val_accuracy: 0.9048\n",
      "Epoch 92/150\n",
      "6/6 [==============================] - 0s 7ms/step - loss: 0.3683 - accuracy: 0.8511 - val_loss: 0.2436 - val_accuracy: 0.9048\n",
      "Epoch 93/150\n",
      "6/6 [==============================] - 0s 7ms/step - loss: 0.3565 - accuracy: 0.8351 - val_loss: 0.2435 - val_accuracy: 0.9048\n",
      "Epoch 94/150\n",
      "6/6 [==============================] - 0s 7ms/step - loss: 0.3467 - accuracy: 0.8617 - val_loss: 0.2420 - val_accuracy: 0.9048\n",
      "Epoch 95/150\n",
      "6/6 [==============================] - 0s 8ms/step - loss: 0.3654 - accuracy: 0.8564 - val_loss: 0.2399 - val_accuracy: 0.9048\n",
      "Epoch 96/150\n",
      "6/6 [==============================] - 0s 7ms/step - loss: 0.3659 - accuracy: 0.8511 - val_loss: 0.2389 - val_accuracy: 0.9048\n",
      "Epoch 97/150\n",
      "6/6 [==============================] - 0s 8ms/step - loss: 0.3651 - accuracy: 0.8457 - val_loss: 0.2393 - val_accuracy: 0.9048\n",
      "Epoch 98/150\n",
      "6/6 [==============================] - 0s 7ms/step - loss: 0.3542 - accuracy: 0.8404 - val_loss: 0.2406 - val_accuracy: 0.9048\n",
      "Epoch 99/150\n",
      "6/6 [==============================] - 0s 7ms/step - loss: 0.3541 - accuracy: 0.8564 - val_loss: 0.2422 - val_accuracy: 0.9048\n",
      "Epoch 100/150\n",
      "6/6 [==============================] - 0s 7ms/step - loss: 0.3596 - accuracy: 0.8564 - val_loss: 0.2407 - val_accuracy: 0.9048\n",
      "Epoch 101/150\n",
      "6/6 [==============================] - 0s 10ms/step - loss: 0.3518 - accuracy: 0.8564 - val_loss: 0.2407 - val_accuracy: 0.9048\n",
      "Epoch 102/150\n",
      "6/6 [==============================] - 0s 8ms/step - loss: 0.3375 - accuracy: 0.8723 - val_loss: 0.2385 - val_accuracy: 0.9048\n",
      "Epoch 103/150\n",
      "6/6 [==============================] - 0s 7ms/step - loss: 0.3485 - accuracy: 0.8457 - val_loss: 0.2372 - val_accuracy: 0.9048\n",
      "Epoch 104/150\n",
      "6/6 [==============================] - 0s 8ms/step - loss: 0.3693 - accuracy: 0.8404 - val_loss: 0.2376 - val_accuracy: 0.9048\n",
      "Epoch 105/150\n",
      "6/6 [==============================] - 0s 8ms/step - loss: 0.3778 - accuracy: 0.8457 - val_loss: 0.2371 - val_accuracy: 0.9048\n",
      "Epoch 106/150\n",
      "6/6 [==============================] - 0s 11ms/step - loss: 0.3574 - accuracy: 0.8564 - val_loss: 0.2370 - val_accuracy: 0.9048\n",
      "Epoch 107/150\n",
      "6/6 [==============================] - 0s 7ms/step - loss: 0.3702 - accuracy: 0.8298 - val_loss: 0.2350 - val_accuracy: 0.9048\n",
      "Epoch 108/150\n",
      "6/6 [==============================] - 0s 7ms/step - loss: 0.3689 - accuracy: 0.8404 - val_loss: 0.2357 - val_accuracy: 0.9048\n",
      "Epoch 109/150\n",
      "6/6 [==============================] - 0s 7ms/step - loss: 0.3301 - accuracy: 0.8723 - val_loss: 0.2351 - val_accuracy: 0.9048\n",
      "Epoch 110/150\n",
      "6/6 [==============================] - 0s 7ms/step - loss: 0.3414 - accuracy: 0.8511 - val_loss: 0.2342 - val_accuracy: 0.9048\n",
      "Epoch 111/150\n",
      "6/6 [==============================] - 0s 6ms/step - loss: 0.3185 - accuracy: 0.8723 - val_loss: 0.2331 - val_accuracy: 0.9048\n",
      "Epoch 112/150\n",
      "6/6 [==============================] - 0s 7ms/step - loss: 0.3600 - accuracy: 0.8404 - val_loss: 0.2322 - val_accuracy: 0.9048\n",
      "Epoch 113/150\n",
      "6/6 [==============================] - 0s 11ms/step - loss: 0.3470 - accuracy: 0.8670 - val_loss: 0.2320 - val_accuracy: 0.9048\n",
      "Epoch 114/150\n",
      "6/6 [==============================] - 0s 7ms/step - loss: 0.3222 - accuracy: 0.8617 - val_loss: 0.2305 - val_accuracy: 0.9048\n",
      "Epoch 115/150\n",
      "6/6 [==============================] - 0s 9ms/step - loss: 0.3261 - accuracy: 0.8670 - val_loss: 0.2293 - val_accuracy: 0.9048\n",
      "Epoch 116/150\n",
      "6/6 [==============================] - 0s 6ms/step - loss: 0.3547 - accuracy: 0.8617 - val_loss: 0.2286 - val_accuracy: 0.9048\n",
      "Epoch 117/150\n",
      "6/6 [==============================] - 0s 7ms/step - loss: 0.3706 - accuracy: 0.8511 - val_loss: 0.2306 - val_accuracy: 0.9048\n",
      "Epoch 118/150\n",
      "6/6 [==============================] - 0s 7ms/step - loss: 0.3437 - accuracy: 0.8617 - val_loss: 0.2321 - val_accuracy: 0.9048\n",
      "Epoch 119/150\n",
      "6/6 [==============================] - 0s 7ms/step - loss: 0.3448 - accuracy: 0.8617 - val_loss: 0.2331 - val_accuracy: 0.9048\n",
      "Epoch 120/150\n",
      "6/6 [==============================] - 0s 7ms/step - loss: 0.3628 - accuracy: 0.8511 - val_loss: 0.2316 - val_accuracy: 0.9048\n",
      "Epoch 121/150\n",
      "6/6 [==============================] - 0s 7ms/step - loss: 0.3177 - accuracy: 0.8936 - val_loss: 0.2283 - val_accuracy: 0.9048\n",
      "Epoch 122/150\n",
      "6/6 [==============================] - 0s 7ms/step - loss: 0.3582 - accuracy: 0.8564 - val_loss: 0.2279 - val_accuracy: 0.9048\n",
      "Epoch 123/150\n",
      "6/6 [==============================] - 0s 9ms/step - loss: 0.3560 - accuracy: 0.8511 - val_loss: 0.2270 - val_accuracy: 0.9048\n",
      "Epoch 124/150\n",
      "6/6 [==============================] - 0s 7ms/step - loss: 0.3378 - accuracy: 0.8564 - val_loss: 0.2282 - val_accuracy: 0.9048\n",
      "Epoch 125/150\n",
      "6/6 [==============================] - 0s 8ms/step - loss: 0.3575 - accuracy: 0.8404 - val_loss: 0.2267 - val_accuracy: 0.9048\n",
      "Epoch 126/150\n",
      "6/6 [==============================] - 0s 7ms/step - loss: 0.3333 - accuracy: 0.8989 - val_loss: 0.2263 - val_accuracy: 0.9048\n",
      "Epoch 127/150\n",
      "6/6 [==============================] - 0s 9ms/step - loss: 0.3049 - accuracy: 0.8830 - val_loss: 0.2262 - val_accuracy: 0.9048\n",
      "Epoch 128/150\n",
      "6/6 [==============================] - 0s 11ms/step - loss: 0.3509 - accuracy: 0.8564 - val_loss: 0.2272 - val_accuracy: 0.9048\n",
      "Epoch 129/150\n",
      "6/6 [==============================] - 0s 7ms/step - loss: 0.3343 - accuracy: 0.8777 - val_loss: 0.2272 - val_accuracy: 0.9048\n",
      "Epoch 130/150\n",
      "6/6 [==============================] - 0s 7ms/step - loss: 0.3659 - accuracy: 0.8457 - val_loss: 0.2281 - val_accuracy: 0.9048\n",
      "Epoch 131/150\n",
      "6/6 [==============================] - 0s 7ms/step - loss: 0.3297 - accuracy: 0.8777 - val_loss: 0.2270 - val_accuracy: 0.9048\n",
      "Epoch 132/150\n",
      "6/6 [==============================] - 0s 7ms/step - loss: 0.3288 - accuracy: 0.8564 - val_loss: 0.2259 - val_accuracy: 0.9048\n",
      "Epoch 133/150\n",
      "6/6 [==============================] - 0s 7ms/step - loss: 0.3293 - accuracy: 0.8670 - val_loss: 0.2256 - val_accuracy: 0.9048\n",
      "Epoch 134/150\n",
      "6/6 [==============================] - 0s 7ms/step - loss: 0.3295 - accuracy: 0.8830 - val_loss: 0.2254 - val_accuracy: 0.9048\n",
      "Epoch 135/150\n",
      "6/6 [==============================] - 0s 7ms/step - loss: 0.3490 - accuracy: 0.8457 - val_loss: 0.2263 - val_accuracy: 0.9048\n",
      "Epoch 136/150\n",
      "6/6 [==============================] - 0s 9ms/step - loss: 0.3548 - accuracy: 0.8564 - val_loss: 0.2261 - val_accuracy: 0.9048\n",
      "Epoch 137/150\n",
      "6/6 [==============================] - 0s 7ms/step - loss: 0.3274 - accuracy: 0.8564 - val_loss: 0.2237 - val_accuracy: 0.9048\n",
      "Epoch 138/150\n",
      "6/6 [==============================] - 0s 7ms/step - loss: 0.3338 - accuracy: 0.8670 - val_loss: 0.2224 - val_accuracy: 0.9048\n",
      "Epoch 139/150\n",
      "6/6 [==============================] - 0s 7ms/step - loss: 0.3188 - accuracy: 0.8670 - val_loss: 0.2224 - val_accuracy: 0.9048\n",
      "Epoch 140/150\n",
      "6/6 [==============================] - 0s 7ms/step - loss: 0.3504 - accuracy: 0.8351 - val_loss: 0.2216 - val_accuracy: 0.9048\n",
      "Epoch 141/150\n",
      "6/6 [==============================] - 0s 8ms/step - loss: 0.3123 - accuracy: 0.8777 - val_loss: 0.2248 - val_accuracy: 0.9524\n",
      "Epoch 142/150\n",
      "6/6 [==============================] - 0s 7ms/step - loss: 0.3433 - accuracy: 0.8617 - val_loss: 0.2252 - val_accuracy: 0.9524\n",
      "Epoch 143/150\n",
      "6/6 [==============================] - 0s 7ms/step - loss: 0.3148 - accuracy: 0.8777 - val_loss: 0.2238 - val_accuracy: 0.9524\n",
      "Epoch 144/150\n",
      "6/6 [==============================] - 0s 8ms/step - loss: 0.3470 - accuracy: 0.8564 - val_loss: 0.2219 - val_accuracy: 0.9048\n",
      "Epoch 145/150\n",
      "6/6 [==============================] - 0s 7ms/step - loss: 0.3397 - accuracy: 0.8617 - val_loss: 0.2228 - val_accuracy: 0.9048\n",
      "Epoch 146/150\n",
      "6/6 [==============================] - 0s 7ms/step - loss: 0.3361 - accuracy: 0.8564 - val_loss: 0.2240 - val_accuracy: 0.9524\n",
      "Epoch 147/150\n",
      "6/6 [==============================] - 0s 8ms/step - loss: 0.3292 - accuracy: 0.8617 - val_loss: 0.2251 - val_accuracy: 0.9524\n",
      "Epoch 148/150\n",
      "6/6 [==============================] - 0s 7ms/step - loss: 0.3384 - accuracy: 0.8564 - val_loss: 0.2255 - val_accuracy: 0.9524\n",
      "Epoch 149/150\n",
      "6/6 [==============================] - 0s 6ms/step - loss: 0.3172 - accuracy: 0.8457 - val_loss: 0.2243 - val_accuracy: 0.9524\n",
      "Epoch 150/150\n",
      "6/6 [==============================] - 0s 7ms/step - loss: 0.3283 - accuracy: 0.8564 - val_loss: 0.2234 - val_accuracy: 0.9524\n"
     ]
    }
   ],
   "source": [
    "model_history = model.fit(X_train, \n",
    "                    y_train,\n",
    "                    validation_split=0.1, \n",
    "                    epochs=150, \n",
    "                    verbose=1)"
   ]
  },
  {
   "cell_type": "code",
   "execution_count": 42,
   "id": "ba475f06",
   "metadata": {
    "colab": {
     "base_uri": "https://localhost:8080/",
     "height": 295
    },
    "id": "ba475f06",
    "outputId": "6fa30e93-a642-463d-de55-b73aebb236d5"
   },
   "outputs": [
    {
     "data": {
      "image/png": "[encoded data removed]",
      "text/plain": [
       "<Figure size 432x288 with 1 Axes>"
      ]
     },
     "metadata": {
      "needs_background": "light"
     },
     "output_type": "display_data"
    }
   ],
   "source": [
    "plt.plot(model_history.history['accuracy'])\n",
    "plt.plot(model_history.history['val_accuracy'])\n",
    "plt.title('Accuracy vs Epochs')\n",
    "plt.ylabel('Accuracy')\n",
    "plt.xlabel('Epoch')\n",
    "plt.legend(['Train', 'Validation'], loc='lower right')\n",
    "plt.show()"
   ]
  },
  {
   "cell_type": "code",
   "execution_count": 43,
   "id": "3542adc0",
   "metadata": {
    "colab": {
     "base_uri": "https://localhost:8080/"
    },
    "id": "3542adc0",
    "outputId": "2914aef4-6f37-4cc7-a739-1f441ab3a93a"
   },
   "outputs": [
    {
     "name": "stdout",
     "output_type": "stream",
     "text": [
      "7/7 [==============================] - 0s 3ms/step - loss: 0.3002 - accuracy: 0.8852\n",
      "7/7 [==============================] - 0s 3ms/step\n"
     ]
    }
   ],
   "source": [
    "model.evaluate(X_train, y_train, verbose = 1)\n",
    "train_pred = np.round(model.predict(X_train))"
   ]
  },
  {
   "cell_type": "code",
   "execution_count": 44,
   "id": "dcc935f9",
   "metadata": {
    "colab": {
     "base_uri": "https://localhost:8080/",
     "height": 495
    },
    "id": "dcc935f9",
    "outputId": "2d6c4a87-3145-4517-b6fc-a53687f729d1"
   },
   "outputs": [
    {
     "name": "stdout",
     "output_type": "stream",
     "text": [
      "              precision    recall  f1-score   support\n",
      "\n",
      "           0       0.89      0.94      0.92       142\n",
      "           1       0.86      0.76      0.81        67\n",
      "\n",
      "    accuracy                           0.89       209\n",
      "   macro avg       0.88      0.85      0.86       209\n",
      "weighted avg       0.88      0.89      0.88       209\n",
      "\n"
     ]
    },
    {
     "data": {
      "image/png": "[encoded data removed]",
      "text/plain": [
       "<Figure size 576x360 with 2 Axes>"
      ]
     },
     "metadata": {
      "needs_background": "light"
     },
     "output_type": "display_data"
    }
   ],
   "source": [
    "print(classification_report(y_train, train_pred))\n",
    "cm = confusion_matrix(y_train, train_pred)\n",
    "plt.figure(figsize=(8,5))\n",
    "sns.heatmap(cm, annot=True,  fmt='.0f',xticklabels=['0', '1'], yticklabels=['0', '1'])\n",
    "plt.ylabel('Actual')\n",
    "plt.xlabel('Predicted')\n",
    "plt.show()"
   ]
  },
  {
   "cell_type": "code",
   "execution_count": 45,
   "id": "56cd9ad5",
   "metadata": {
    "colab": {
     "base_uri": "https://localhost:8080/"
    },
    "id": "56cd9ad5",
    "outputId": "03cd9d0a-927f-4ee2-c510-c7a26796ba7c"
   },
   "outputs": [
    {
     "name": "stdout",
     "output_type": "stream",
     "text": [
      "3/3 [==============================] - 0s 4ms/step - loss: 0.4443 - accuracy: 0.8222\n",
      "3/3 [==============================] - 0s 4ms/step\n"
     ]
    }
   ],
   "source": [
    "model.evaluate(X_test, y_test, verbose = 1)\n",
    "test_pred = np.round(model.predict(X_test))"
   ]
  },
  {
   "cell_type": "code",
   "execution_count": 46,
   "id": "4cbe5993",
   "metadata": {
    "colab": {
     "base_uri": "https://localhost:8080/",
     "height": 495
    },
    "id": "4cbe5993",
    "outputId": "827cff8a-5658-4b0d-8a01-50b2b2851bb0"
   },
   "outputs": [
    {
     "name": "stdout",
     "output_type": "stream",
     "text": [
      "              precision    recall  f1-score   support\n",
      "\n",
      "           0       0.84      0.92      0.88        61\n",
      "           1       0.78      0.62      0.69        29\n",
      "\n",
      "    accuracy                           0.82        90\n",
      "   macro avg       0.81      0.77      0.78        90\n",
      "weighted avg       0.82      0.82      0.82        90\n",
      "\n"
     ]
    },
    {
     "data": {
      "image/png": "[encoded data removed]",
      "text/plain": [
       "<Figure size 576x360 with 2 Axes>"
      ]
     },
     "metadata": {
      "needs_background": "light"
     },
     "output_type": "display_data"
    }
   ],
   "source": [
    "from sklearn.metrics import classification_report\n",
    "from sklearn.metrics import confusion_matrix\n",
    "\n",
    "print(classification_report(y_test, test_pred))\n",
    "cm = confusion_matrix(y_test, test_pred)\n",
    "plt.figure(figsize=(8,5))\n",
    "sns.heatmap(cm, annot=True,  fmt='.0f',xticklabels=['0', '1'], yticklabels=['0', '1'])\n",
    "plt.ylabel('Actual')\n",
    "plt.xlabel('Predicted')\n",
    "plt.show()"
   ]
  },
  {
   "cell_type": "code",
   "execution_count": 47,
   "id": "8e9faf37",
   "metadata": {
    "id": "8e9faf37"
   },
   "outputs": [],
   "source": [
    "# Clearing backend\n",
    "from tensorflow.keras import backend\n",
    "backend.clear_session()"
   ]
  },
  {
   "cell_type": "code",
   "execution_count": null,
   "id": "28e61957-0985-4ed0-8fd0-b393b93bd39f",
   "metadata": {
    "id": "28e61957-0985-4ed0-8fd0-b393b93bd39f"
   },
   "outputs": [],
   "source": []
  }
 ],
 "metadata": {
  "colab": {
   "provenance": []
  },
  "kernelspec": {
   "display_name": "Python 3 (ipykernel)",
   "language": "python",
   "name": "python3"
  },
  "language_info": {
   "codemirror_mode": {
    "name": "ipython",
    "version": 3
   },
   "file_extension": ".py",
   "mimetype": "text/x-python",
   "name": "python",
   "nbconvert_exporter": "python",
   "pygments_lexer": "ipython3",
   "version": "3.9.12"
  }
 },
 "nbformat": 4,
 "nbformat_minor": 5
}
